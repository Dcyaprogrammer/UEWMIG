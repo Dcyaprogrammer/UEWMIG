{
 "cells": [
  {
   "cell_type": "code",
   "execution_count": 2,
   "metadata": {},
   "outputs": [],
   "source": [
    "import minari\n",
    "import torch\n",
    "import torch.nn as nn\n",
    "import torch.nn.functional as F\n",
    "from torch.utils.data import DataLoader\n",
    "import numpy as np\n",
    "from sklearn.feature_extraction.text import TfidfVectorizer"
   ]
  },
  {
   "cell_type": "code",
   "execution_count": 3,
   "metadata": {},
   "outputs": [],
   "source": [
    "COLOR_MAP = {\n",
    "    \"red\": 0,\n",
    "    \"green\": 1,\n",
    "    \"blue\": 2,\n",
    "    \"purple\": 3,\n",
    "    \"yellow\": 4,\n",
    "    \"grey\": 5\n",
    "}\n",
    "\n",
    "TYPE_MAP = {\n",
    "    \"ball\": 0,\n",
    "    \"box\": 1,\n",
    "    \"key\": 2\n",
    "}\n",
    "\n",
    "def mission_to_int(mission) -> int:\n",
    "    \"\"\"\n",
    "    将单个mission字符串转换为整数\n",
    "    Args:\n",
    "        mission: 格式为 \"pick up a {color} {type}\" 的字符串\n",
    "    Returns:\n",
    "        整数编码，格式为 color_id * 10 + type_id\n",
    "    \"\"\"\n",
    "    # 分割字符串获取颜色和类型\n",
    "    parts = mission.split()\n",
    "    color = parts[3]  # 获取颜色\n",
    "    obj_type = parts[4]  # 获取类型\n",
    "    \n",
    "    # 获取对应的ID\n",
    "    color_id = COLOR_MAP[color]\n",
    "    type_id = TYPE_MAP[obj_type]\n",
    "    \n",
    "    # 组合成唯一整数 (使用color_id * 10 + type_id确保唯一性)\n",
    "    return color_id * 10 + type_id\n",
    "\n",
    "def encode_missions(missions) -> np.ndarray:\n",
    "    \"\"\"\n",
    "    将mission列表转换为整数数组\n",
    "    Args:\n",
    "        missions: mission字符串列表\n",
    "    Returns:\n",
    "        整数数组，每个元素对应一个mission的编码\n",
    "    \"\"\"\n",
    "    return np.array([mission_to_int(mission) for mission in missions])"
   ]
  },
  {
   "cell_type": "code",
   "execution_count": 4,
   "metadata": {},
   "outputs": [],
   "source": [
    "dataset = minari.load_dataset(\n",
    "    dataset_id=\"minigrid/BabyAI-Pickup/optimal-fullobs-v0\",\n",
    ")"
   ]
  },
  {
   "cell_type": "code",
   "execution_count": 35,
   "metadata": {},
   "outputs": [
    {
     "name": "stdout",
     "output_type": "stream",
     "text": [
      "(15, 22, 22, 3)\n"
     ]
    }
   ],
   "source": [
    "sampled_episodes = dataset.sample_episodes(10)"
   ]
  },
  {
   "cell_type": "markdown",
   "metadata": {},
   "source": [
    "\"direction\" : ndarray (15,)\n",
    "\"image\" : ndarray (15,22,22,3)\n",
    "\"mission\" : list"
   ]
  },
  {
   "cell_type": "code",
   "execution_count": 41,
   "metadata": {},
   "outputs": [
    {
     "name": "stdout",
     "output_type": "stream",
     "text": [
      "(15, 22, 22, 3)\n"
     ]
    }
   ],
   "source": [
    "print(sampled_episodes[2].observations[\"image\"].shape)"
   ]
  },
  {
   "cell_type": "code",
   "execution_count": null,
   "metadata": {},
   "outputs": [],
   "source": [
    "sampled_episodes[1]"
   ]
  }
 ],
 "metadata": {
  "kernelspec": {
   "display_name": "purejaxrl",
   "language": "python",
   "name": "python3"
  },
  "language_info": {
   "codemirror_mode": {
    "name": "ipython",
    "version": 3
   },
   "file_extension": ".py",
   "mimetype": "text/x-python",
   "name": "python",
   "nbconvert_exporter": "python",
   "pygments_lexer": "ipython3",
   "version": "3.10.18"
  }
 },
 "nbformat": 4,
 "nbformat_minor": 2
}
